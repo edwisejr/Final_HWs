{
 "cells": [
  {
   "cell_type": "code",
   "execution_count": 1,
   "metadata": {},
   "outputs": [
    {
     "name": "stderr",
     "output_type": "stream",
     "text": [
      "C:\\Users\\edwar\\Anaconda3\\lib\\site-packages\\ipykernel_launcher.py:8: FutureWarning: Sorting because non-concatenation axis is not aligned. A future version\n",
      "of pandas will change to not sort by default.\n",
      "\n",
      "To accept the future behavior, pass 'sort=True'.\n",
      "\n",
      "To retain the current behavior and silence the warning, pass sort=False\n",
      "\n",
      "  \n"
     ]
    }
   ],
   "source": [
    "import glob\n",
    "import pandas as pd\n",
    "pd.set_option('display.max_columns', 500)\n",
    "# glob.glob('data*.csv') - returns List[str]\n",
    "# pd.read_csv(f) - returns pd.DataFrame()\n",
    "# for f in glob.glob() - returns a List[DataFrames]\n",
    "# pd.concat() - returns one pd.DataFrame()\n",
    "df = pd.concat([pd.read_csv(f) for f in glob.glob('ny-******-citibike-tripdata.csv')],ignore_index=True)\n",
    "#                names = ['tripduration'\\\n",
    "# , 'starttime'\\\n",
    "# , 'stoptime'\\\n",
    "# , 'start station id'\\\n",
    "# , 'start station name'\\\n",
    "# , 'start station latitude'\\\n",
    "# , 'start station longitude'\\\n",
    "# , 'end station id'\\\n",
    "# , 'end station name'\\\n",
    "# , 'end station latitude'\\\n",
    "# , 'end station longitude'\\\n",
    "# , 'bikeid'\\\n",
    "# , 'usertype'\\\n",
    "# , 'birth year'\\\n",
    "# , 'gender'])\n",
    "# f = pd.read_csv('JC-20161-citibike-tripdata.csv')\n",
    "# df=pd.DataFrame(f)\n",
    "# df2 = df[['bikeid'\t, 'birth year'\t, 'end station id'\t, 'end station latitude'\t, 'end station longitude'\t, 'end station name'\t, 'gender'\t, 'start station id'\t, 'start station latitude'\t, 'start station longitude'\t, 'start station name'\t, 'starttime'\t, 'stoptime'\t, 'tripduration'\t, 'usertype']]\n",
    "# df2 = df2.rename(index=str, columns={\\\n",
    "#  \"bikeid\": \"Bike ID\",\\\n",
    "# \"birth year\": \"Birth Year\",\\\n",
    "# \"end station id\": \"End Station ID\",\\\n",
    "# \"end station latitude\": \"End Station Latitude\",\\\n",
    "# \"end station longitude\": \"End Station Longitude\",\\\n",
    "# \"end station name\": \"End Station Name\",\\\n",
    "# \"gender\": \"Gender\",\\\n",
    "# \"start station id\": \"Start Station ID\",\\\n",
    "# \"start station latitude\": \"Start Station Latitude\",\\\n",
    "# \"start station longitude\": \"Start Station Longitude\",\\\n",
    "# \"start station name\": \"Start Station Name\",\\\n",
    "# \"starttime\": \"Start Time\",\\\n",
    "# \"stoptime\": \"Stop Time\",\\\n",
    "# \"tripduration\": \"Trip Duration\",\\\n",
    "# \"usertype\": \"User Type\"})\n",
    "\n",
    "# df2 = df2.dropna(how='all')\n",
    "\n",
    "# df1 = df[[ 'Bike ID'\t, 'Birth Year'\t, 'End Station ID'\t, 'End Station Latitude'\t, 'End Station Longitude'\t, 'End Station Name'\t, 'Gender'\t, 'Start Station ID'\t, 'Start Station Latitude'\t, 'Start Station Longitude'\t, 'Start Station Name'\t, 'Start Time'\t, 'Stop Time'\t, 'Trip Duration'\t, 'User Type']]\n",
    "\n",
    "# frames = [df1, df2]\n",
    "# result = pd.concat(frames,axis=0, sort=False)\n",
    "\n",
    "df.to_csv('nybikes3.csv')"
   ]
  },
  {
   "cell_type": "code",
   "execution_count": null,
   "metadata": {},
   "outputs": [],
   "source": []
  }
 ],
 "metadata": {
  "kernelspec": {
   "display_name": "Python 3",
   "language": "python",
   "name": "python3"
  },
  "language_info": {
   "codemirror_mode": {
    "name": "ipython",
    "version": 3
   },
   "file_extension": ".py",
   "mimetype": "text/x-python",
   "name": "python",
   "nbconvert_exporter": "python",
   "pygments_lexer": "ipython3",
   "version": "3.6.5"
  }
 },
 "nbformat": 4,
 "nbformat_minor": 2
}
