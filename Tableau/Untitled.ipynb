{
 "cells": [
  {
   "cell_type": "code",
   "execution_count": 6,
   "metadata": {},
   "outputs": [
    {
     "ename": "NameError",
     "evalue": "name 'values' is not defined",
     "output_type": "error",
     "traceback": [
      "\u001b[1;31m---------------------------------------------------------------------------\u001b[0m",
      "\u001b[1;31mNameError\u001b[0m                                 Traceback (most recent call last)",
      "\u001b[1;32m<ipython-input-6-4a87d4c58d9d>\u001b[0m in \u001b[0;36m<module>\u001b[1;34m()\u001b[0m\n\u001b[0;32m     14\u001b[0m \u001b[0minsert\u001b[0m \u001b[1;33m=\u001b[0m \u001b[1;34m'INSERT INTO Table ('\u001b[0m \u001b[1;33m+\u001b[0m \u001b[1;34m\", \"\u001b[0m\u001b[1;33m.\u001b[0m\u001b[0mjoin\u001b[0m\u001b[1;33m(\u001b[0m\u001b[0mheaders\u001b[0m\u001b[1;33m)\u001b[0m \u001b[1;33m+\u001b[0m \u001b[1;34m\") VALUES \"\u001b[0m\u001b[1;33m\u001b[0m\u001b[0m\n\u001b[0;32m     15\u001b[0m \u001b[1;32mfor\u001b[0m \u001b[0mrow\u001b[0m \u001b[1;32min\u001b[0m \u001b[0mcsvFile\u001b[0m\u001b[1;33m:\u001b[0m\u001b[1;33m\u001b[0m\u001b[0m\n\u001b[1;32m---> 16\u001b[1;33m     \u001b[0mprint\u001b[0m \u001b[1;33m(\u001b[0m\u001b[0minsert\u001b[0m \u001b[1;33m+\u001b[0m\u001b[1;34m\"(\"\u001b[0m\u001b[1;33m+\u001b[0m \u001b[1;34m\", \"\u001b[0m\u001b[1;33m.\u001b[0m\u001b[0mjoin\u001b[0m\u001b[1;33m(\u001b[0m\u001b[0mvalues\u001b[0m\u001b[1;33m)\u001b[0m \u001b[1;33m+\u001b[0m\u001b[1;34m\");\"\u001b[0m \u001b[1;33m)\u001b[0m\u001b[1;33m\u001b[0m\u001b[0m\n\u001b[0m\u001b[0;32m     17\u001b[0m \u001b[0mopenFile\u001b[0m\u001b[1;33m.\u001b[0m\u001b[0mclose\u001b[0m\u001b[1;33m(\u001b[0m\u001b[1;33m)\u001b[0m\u001b[1;33m\u001b[0m\u001b[0m\n\u001b[0;32m     18\u001b[0m \u001b[1;33m\u001b[0m\u001b[0m\n",
      "\u001b[1;31mNameError\u001b[0m: name 'values' is not defined"
     ]
    }
   ],
   "source": [
    "from sqlalchemy import create_engine\n",
    "import pyodbc\n",
    "import pandas as pd\n",
    "import csv\n",
    "\n",
    "cstr = \"mssql+pyodbc://LAPTOP-IAOQCHN1/StageB?driver=ODBC+Driver+13+for+SQL+Server\"\n",
    "engine =  create_engine(cstr)\n",
    "# f= pd.read_csv('nybikes3.csv')\n",
    "# df = pd.DataFrame(f)\n",
    "openFile = open('nybikes3.csv', 'r')\n",
    "csvFile = csv.reader(openFile)\n",
    "header = next(csvFile)\n",
    "headers = map((lambda x: '`'+x+'`'), header)\n",
    "insert = 'INSERT INTO Table (' + \", \".join(headers) + \") VALUES \"\n",
    "for row in csvFile:\n",
    "    print (insert +\"(\"+ \", \".join(values) +\");\" )\n",
    "openFile.close()\n",
    "\n",
    "# i = 0\n",
    "# for i in range(len(df)):\n",
    "#     df_entry = pd.DataFrame(df.iloc[[i]])\n",
    "#     df_entry.to_sql('ny_bikes', con=engine, index=False, if_exists='append')\n",
    "#     i+=1\n",
    "\n",
    "# result = engine.execute('select * from dbo.TAX_AGENCY_CHI_2013')\n",
    "\n",
    "# deps= pd.DataFrame(result.fetchall())\n",
    "# deps.columns = result.keys()\n",
    "# deps.head()"
   ]
  },
  {
   "cell_type": "code",
   "execution_count": 3,
   "metadata": {},
   "outputs": [
    {
     "name": "stderr",
     "output_type": "stream",
     "text": [
      "C:\\Users\\edwar\\Anaconda3\\lib\\site-packages\\h5py\\__init__.py:36: FutureWarning: Conversion of the second argument of issubdtype from `float` to `np.floating` is deprecated. In future, it will be treated as `np.float64 == np.dtype(float).type`.\n",
      "  from ._conv import register_converters as _register_converters\n",
      "C:\\Users\\edwar\\Anaconda3\\lib\\site-packages\\odo\\backends\\pandas.py:102: FutureWarning: pandas.tslib is deprecated and will be removed in a future version.\n",
      "You can access NaTType as type(pandas.NaT)\n",
      "  @convert.register((pd.Timestamp, pd.Timedelta), (pd.tslib.NaTType, type(None)))\n"
     ]
    },
    {
     "ename": "TypeError",
     "evalue": "'module' object is not callable",
     "output_type": "error",
     "traceback": [
      "\u001b[1;31m---------------------------------------------------------------------------\u001b[0m",
      "\u001b[1;31mTypeError\u001b[0m                                 Traceback (most recent call last)",
      "\u001b[1;32m<ipython-input-3-58ba384431e8>\u001b[0m in \u001b[0;36m<module>\u001b[1;34m()\u001b[0m\n\u001b[0;32m      1\u001b[0m \u001b[1;32mimport\u001b[0m \u001b[0modo\u001b[0m\u001b[1;33m\u001b[0m\u001b[0m\n\u001b[1;32m----> 2\u001b[1;33m \u001b[0modo\u001b[0m\u001b[1;33m(\u001b[0m\u001b[1;34m'nybikes3.csv'\u001b[0m\u001b[1;33m,\u001b[0m \u001b[1;34m'mysql+pymysql://localhost/test::nyc'\u001b[0m\u001b[1;33m)\u001b[0m\u001b[1;33m\u001b[0m\u001b[0m\n\u001b[0m",
      "\u001b[1;31mTypeError\u001b[0m: 'module' object is not callable"
     ]
    }
   ],
   "source": [
    "import odo\n",
    "odo('nybikes3.csv', 'mysql+pymysql://localhost/test::nyc')"
   ]
  },
  {
   "cell_type": "code",
   "execution_count": null,
   "metadata": {},
   "outputs": [],
   "source": [
    "cstr = \"mssql+pyodbc://LAPTOP-IAOQCHN1/StageB?driver=ODBC+Driver+13+for+SQL+Server\"\n",
    "engine =  create_engine(cstr)\n",
    "\n",
    "result = engine.execute('select * from dbo.TAX_AGENCY_CHI_2013')\n"
   ]
  },
  {
   "cell_type": "code",
   "execution_count": 4,
   "metadata": {},
   "outputs": [
    {
     "name": "stdout",
     "output_type": "stream",
     "text": [
      "[',Bike ID,Birth Year,End Station ID,End Station Latitude,End Station Longitude,End Station Name,Gender,Start Station ID,Start Station Latitude,Start Station Longitude,Start Station Name,Start Time,Stop Time,Trip Duration,User Type,bikeid,birth year,end station id,end station latitude,end station longitude,end station name,gender,start station id,start station latitude,start station longitude,start station name,starttime,stoptime,tripduration,usertype\\n', '0,,,,,,,,,,,,,,,,22545.0,1981.0,531.0,40.71893904,-73.99266288,Forsyth St & Broome St,2.0,537.0,40.74025878,-73.98409214,Lexington Ave & E 24 St,11/1/2015 00:00:00,11/1/2015 00:18:31,1110.0,Subscriber\\n', '1,,,,,,,,,,,,,,,,23959.0,1980.0,531.0,40.71893904,-73.99266288,Forsyth St & Broome St,1.0,537.0,40.74025878,-73.98409214,Lexington Ave & E 24 St,11/1/2015 00:00:01,11/1/2015 00:18:15,1094.0,Subscriber\\n', '2,,,,,,,,,,,,,,,,22251.0,1988.0,498.0,40.74854862,-73.98808416,Broadway & W 32 St,1.0,536.0,40.74144387,-73.97536082,1 Ave & E 30 St,11/1/2015 00:00:05,11/1/2015 00:08:45,520.0,Subscriber\\n', '3,,,,,,,,,,,,,,,,15869.0,1981.0,328.0,40.72405549,-74.00965965,Watts St & Greenwich St,1.0,229.0,40.72743423,-73.99379025,Great Jones St,11/1/2015 00:00:15,11/1/2015 00:12:48,753.0,Subscriber\\n']\n"
     ]
    }
   ],
   "source": [
    "with open(\"nybikes3.csv\") as myfile:\n",
    "    head = [next(myfile) for x in range(5)]\n",
    "print(head)"
   ]
  },
  {
   "cell_type": "code",
   "execution_count": null,
   "metadata": {},
   "outputs": [],
   "source": []
  }
 ],
 "metadata": {
  "kernelspec": {
   "display_name": "Python 3",
   "language": "python",
   "name": "python3"
  },
  "language_info": {
   "codemirror_mode": {
    "name": "ipython",
    "version": 3
   },
   "file_extension": ".py",
   "mimetype": "text/x-python",
   "name": "python",
   "nbconvert_exporter": "python",
   "pygments_lexer": "ipython3",
   "version": "3.6.5"
  }
 },
 "nbformat": 4,
 "nbformat_minor": 2
}
